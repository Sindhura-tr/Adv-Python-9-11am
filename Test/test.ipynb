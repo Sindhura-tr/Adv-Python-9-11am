{
 "cells": [
  {
   "cell_type": "code",
   "execution_count": 1,
   "metadata": {},
   "outputs": [],
   "source": [
    "import os\n",
    "import pandas as pd"
   ]
  },
  {
   "cell_type": "code",
   "execution_count": 1,
   "metadata": {},
   "outputs": [
    {
     "name": "stdout",
     "output_type": "stream",
     "text": [
      "Welcome to the class.\n"
     ]
    }
   ],
   "source": [
    "print(\"Welcome to the class.\")"
   ]
  },
  {
   "cell_type": "code",
   "execution_count": 2,
   "metadata": {},
   "outputs": [
    {
     "name": "stdout",
     "output_type": "stream",
     "text": [
      "print this line 1\n",
      "print this line 2\n",
      "print this line 3\n",
      "print this line 4\n",
      "print this line 5\n",
      "print this line 6\n",
      "print this line 7\n",
      "print this line 8\n",
      "print this line 9\n",
      "print this line 10\n",
      "print this line 11\n",
      "print this line 12\n",
      "print this line 13\n",
      "print this line 14\n",
      "print this line 15\n",
      "print this line 16\n",
      "print this line 17\n",
      "print this line 18\n",
      "print this line 19\n",
      "print this line 20\n",
      "print this line 21\n",
      "print this line 22\n",
      "print this line 23\n",
      "print this line 24\n"
     ]
    }
   ],
   "source": [
    "for i in range(1,25):\n",
    "    print(f\"print this line {i}\")"
   ]
  },
  {
   "cell_type": "code",
   "execution_count": 6,
   "metadata": {},
   "outputs": [
    {
     "data": {
      "text/plain": [
       "False"
      ]
     },
     "execution_count": 6,
     "metadata": {},
     "output_type": "execute_result"
    }
   ],
   "source": [
    "isinstance(100,int|float) and isinstance(\"s100\",int|float)"
   ]
  },
  {
   "cell_type": "code",
   "execution_count": 5,
   "metadata": {},
   "outputs": [
    {
     "data": {
      "text/plain": [
       "False"
      ]
     },
     "execution_count": 5,
     "metadata": {},
     "output_type": "execute_result"
    }
   ],
   "source": [
    "isinstance(\"s100\",int|float)"
   ]
  },
  {
   "cell_type": "code",
   "execution_count": null,
   "metadata": {},
   "outputs": [],
   "source": []
  }
 ],
 "metadata": {
  "kernelspec": {
   "display_name": "venv",
   "language": "python",
   "name": "python3"
  },
  "language_info": {
   "codemirror_mode": {
    "name": "ipython",
    "version": 3
   },
   "file_extension": ".py",
   "mimetype": "text/x-python",
   "name": "python",
   "nbconvert_exporter": "python",
   "pygments_lexer": "ipython3",
   "version": "3.12.0"
  }
 },
 "nbformat": 4,
 "nbformat_minor": 2
}
